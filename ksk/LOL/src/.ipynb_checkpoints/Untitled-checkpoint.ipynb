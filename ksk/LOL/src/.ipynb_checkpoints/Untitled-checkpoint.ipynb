{
 "cells": [
  {
   "cell_type": "markdown",
   "metadata": {},
   "source": [
    "# 참고 url\n",
    "- [롤 API](https://right1203.github.io/study/2019/02/28/lol-duo-tier/)\n",
    "- [Interactive Plotly](https://plotly.com/python/figurewidget-app/)\n",
    "- [Plotly Bar](https://hogni.tistory.com/86)"
   ]
  },
  {
   "cell_type": "code",
   "execution_count": 1,
   "metadata": {},
   "outputs": [],
   "source": [
    "# 패키지 불러오기\n",
    "\n",
    "import pickle # 리스트 안의 데이터프레임 형태 저장\n",
    "import requests # api 요청\n",
    "import json\n",
    "import pandas as pd\n",
    "import numpy as np\n",
    "import time\n",
    "\n",
    "from skimage import io # 미니맵 처리\n",
    "from sklearn.preprocessing import MinMaxScaler"
   ]
  },
  {
   "cell_type": "code",
   "execution_count": 3,
   "metadata": {},
   "outputs": [],
   "source": [
    "import plotly.express as px\n",
    "import plotly.graph_objects as go\n",
    "from ipywidgets import widgets"
   ]
  },
  {
   "cell_type": "code",
   "execution_count": 4,
   "metadata": {},
   "outputs": [],
   "source": [
    "df_lol_duo_match = pd.DataFrame({\"AD\": [\"시비르\", \"이즈리얼\", \"시비르\", \"이즈리얼\"],\n",
    "                                 \"SUP\": [\"알리스타\", \"알리스타\", \"소라카\", \"소라카\"],\n",
    "                                 \"WIN_RATE\" : [0.5, 0.4, 0.6, 0.6],\n",
    "                                 \"PICK_RATE\": [0.06, 0.11, 0.07, 0.03]})"
   ]
  },
  {
   "cell_type": "code",
   "execution_count": 5,
   "metadata": {},
   "outputs": [],
   "source": [
    "AD_dropdown = widgets.Dropdown(description='AD Champ:   ',\n",
    "                               value=None,\n",
    "                               options=df_lol_duo_match['AD'].unique().tolist())"
   ]
  },
  {
   "cell_type": "code",
   "execution_count": 10,
   "metadata": {},
   "outputs": [],
   "source": [
    "trace1 = go.Bar(x=df_lol_duo_match[\"SUP\"], y=df_lol_duo_match[\"WIN_RATE\"], opacity=0.75, name='Arrival Delays')"
   ]
  },
  {
   "cell_type": "code",
   "execution_count": 11,
   "metadata": {},
   "outputs": [],
   "source": [
    "# trace2 = go.Bar(x=df['dep_delay'], opacity=0.75, name='Departure Delays')\n",
    "g = go.FigureWidget(data=[trace1])\n",
    "# g = go.FigureWidget(data=[trace1, trace2],\n",
    "#                     layout=go.Layout(\n",
    "#                         title=dict(\n",
    "#                             text='NYC FlightDatabase'\n",
    "#                         ),\n",
    "#                         barmode='overlay'\n",
    "#                     ))"
   ]
  },
  {
   "cell_type": "code",
   "execution_count": 20,
   "metadata": {},
   "outputs": [
    {
     "data": {
      "text/html": [
       "<div>\n",
       "<style scoped>\n",
       "    .dataframe tbody tr th:only-of-type {\n",
       "        vertical-align: middle;\n",
       "    }\n",
       "\n",
       "    .dataframe tbody tr th {\n",
       "        vertical-align: top;\n",
       "    }\n",
       "\n",
       "    .dataframe thead th {\n",
       "        text-align: right;\n",
       "    }\n",
       "</style>\n",
       "<table border=\"1\" class=\"dataframe\">\n",
       "  <thead>\n",
       "    <tr style=\"text-align: right;\">\n",
       "      <th></th>\n",
       "      <th>AD</th>\n",
       "      <th>SUP</th>\n",
       "      <th>WIN_RATE</th>\n",
       "      <th>PICK_RATE</th>\n",
       "    </tr>\n",
       "  </thead>\n",
       "  <tbody>\n",
       "    <tr>\n",
       "      <th>0</th>\n",
       "      <td>시비르</td>\n",
       "      <td>알리스타</td>\n",
       "      <td>0.5</td>\n",
       "      <td>0.06</td>\n",
       "    </tr>\n",
       "    <tr>\n",
       "      <th>2</th>\n",
       "      <td>시비르</td>\n",
       "      <td>소라카</td>\n",
       "      <td>0.6</td>\n",
       "      <td>0.07</td>\n",
       "    </tr>\n",
       "  </tbody>\n",
       "</table>\n",
       "</div>"
      ],
      "text/plain": [
       "    AD   SUP  WIN_RATE  PICK_RATE\n",
       "0  시비르  알리스타       0.5       0.06\n",
       "2  시비르   소라카       0.6       0.07"
      ]
     },
     "execution_count": 20,
     "metadata": {},
     "output_type": "execute_result"
    }
   ],
   "source": [
    "df_lol_duo_match.query(\"AD == @AD_dropdown.value\")"
   ]
  },
  {
   "cell_type": "code",
   "execution_count": 16,
   "metadata": {},
   "outputs": [],
   "source": [
    "def response(change):\n",
    "    temp_df = df_lol_duo_match.query(\"AD == @AD_dropdown.value\")\n",
    "\n",
    "    with g.batch_update():\n",
    "        g.data[0].x = temp_df[\"SUP\"]\n",
    "        g.data[0].y = temp_df[\"WIN_RATE\"]\n",
    "        g.layout.xaxis.title = 'Delay in Minutes'\n",
    "        g.layout.yaxis.title = 'Number of Delays'\n",
    "\n",
    "\n",
    "AD_dropdown.observe(response, names=\"value\")"
   ]
  },
  {
   "cell_type": "markdown",
   "metadata": {},
   "source": [
    "AD나 서폿 고르면 듀오 챔에 따른 승률, 픽률"
   ]
  },
  {
   "cell_type": "code",
   "execution_count": 18,
   "metadata": {},
   "outputs": [
    {
     "data": {
      "application/vnd.jupyter.widget-view+json": {
       "model_id": "777fbc016f9f49c684e72e0606a2e004",
       "version_major": 2,
       "version_minor": 0
      },
      "text/plain": [
       "VBox(children=(HBox(children=(Dropdown(description='AD Champ:   ', options=('시비르', '이즈리얼'), value=None),)), Fi…"
      ]
     },
     "metadata": {},
     "output_type": "display_data"
    }
   ],
   "source": [
    "widgets.VBox([widgets.HBox([AD_dropdown]),\n",
    "              g])"
   ]
  },
  {
   "cell_type": "code",
   "execution_count": null,
   "metadata": {},
   "outputs": [],
   "source": []
  }
 ],
 "metadata": {
  "kernelspec": {
   "display_name": "Python 3",
   "language": "python",
   "name": "python3"
  },
  "language_info": {
   "codemirror_mode": {
    "name": "ipython",
    "version": 3
   },
   "file_extension": ".py",
   "mimetype": "text/x-python",
   "name": "python",
   "nbconvert_exporter": "python",
   "pygments_lexer": "ipython3",
   "version": "3.7.4"
  }
 },
 "nbformat": 4,
 "nbformat_minor": 2
}
