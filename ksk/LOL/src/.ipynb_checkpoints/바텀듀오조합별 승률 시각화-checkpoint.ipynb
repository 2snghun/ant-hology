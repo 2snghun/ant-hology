{
 "cells": [
  {
   "cell_type": "code",
   "execution_count": null,
   "metadata": {},
   "outputs": [],
   "source": [
    "import plotly.express as px\n",
    "import plotly.graph_objects as go\n",
    "from ipywidgets import widgets\n",
    "\n",
    "df_lol_duo_match = pd.DataFrame({\"AD\": [\"시비르\", \"이즈리얼\", \"시비르\", \"이즈리얼\"],\n",
    "                                 \"SUP\": [\"알리스타\", \"알리스타\", \"소라카\", \"소라카\"],\n",
    "                                 \"WIN_RATE\" : [0.5, 0.4, 0.6, 0.6],\n",
    "                                 \"PICK_RATE\": [0.06, 0.11, 0.07, 0.03]})\n",
    "\n",
    "AD_dropdown = widgets.Dropdown(description='AD Champ:   ',\n",
    "                               value=None,\n",
    "                               options=df_lol_duo_match['AD'].unique().tolist())\n",
    "\n",
    "trace1 = go.Bar(x=df_lol_duo_match[\"SUP\"], y=df_lol_duo_match[\"WIN_RATE\"], opacity=0.75, name='Arrival Delays')\n",
    "\n",
    "# trace2 = go.Bar(x=df['dep_delay'], opacity=0.75, name='Departure Delays')\n",
    "g = go.FigureWidget(data=[trace1])\n",
    "# g = go.FigureWidget(data=[trace1, trace2],\n",
    "#                     layout=go.Layout(\n",
    "#                         title=dict(\n",
    "#                             text='NYC FlightDatabase'\n",
    "#                         ),\n",
    "#                         barmode='overlay'\n",
    "#                     ))\n",
    "\n",
    "df_lol_duo_match.query(\"AD == @AD_dropdown.value\")\n",
    "\n",
    "def response(change):\n",
    "    temp_df = df_lol_duo_match.query(\"AD == @AD_dropdown.value\")\n",
    "\n",
    "    with g.batch_update():\n",
    "        g.data[0].x = temp_df[\"SUP\"]\n",
    "        g.data[0].y = temp_df[\"WIN_RATE\"]\n",
    "        g.layout.xaxis.title = 'Delay in Minutes'\n",
    "        g.layout.yaxis.title = 'Number of Delays'\n",
    "\n",
    "\n",
    "AD_dropdown.observe(response, names=\"value\")\n",
    "\n",
    "AD나 서폿 고르면 듀오 챔에 따른 승률, 픽률\n",
    "\n",
    "widgets.VBox([widgets.HBox([AD_dropdown]),\n",
    "              g])"
   ]
  }
 ],
 "metadata": {
  "kernelspec": {
   "display_name": "LOL-BhK7coMk",
   "language": "python",
   "name": "lol-bhk7comk"
  },
  "language_info": {
   "codemirror_mode": {
    "name": "ipython",
    "version": 3
   },
   "file_extension": ".py",
   "mimetype": "text/x-python",
   "name": "python",
   "nbconvert_exporter": "python",
   "pygments_lexer": "ipython3",
   "version": "3.7.6"
  }
 },
 "nbformat": 4,
 "nbformat_minor": 4
}
