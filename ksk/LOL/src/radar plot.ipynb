{
 "cells": [
  {
   "cell_type": "markdown",
   "metadata": {},
   "source": [
    "# 참고 url\n",
    "- [롤 API](https://right1203.github.io/study/2019/02/28/lol-duo-tier/)\n",
    "- [Interactive Plotly](https://plotly.com/python/figurewidget-app/)\n",
    "- [Plotly Bar](https://hogni.tistory.com/86)"
   ]
  },
  {
   "cell_type": "code",
   "execution_count": 1,
   "metadata": {},
   "outputs": [],
   "source": [
    "# 패키지 불러오기\n",
    "\n",
    "import pickle # 리스트 안의 데이터프레임 형태 저장\n",
    "import requests # api 요청\n",
    "import json\n",
    "import pandas as pd\n",
    "import numpy as np\n",
    "import time\n",
    "\n",
    "from skimage import io # 미니맵 처리\n",
    "from sklearn.preprocessing import MinMaxScaler"
   ]
  },
  {
   "cell_type": "code",
   "execution_count": 2,
   "metadata": {},
   "outputs": [],
   "source": [
    "import plotly.express as px\n",
    "import plotly.graph_objects as go\n",
    "from ipywidgets import widgets"
   ]
  },
  {
   "cell_type": "code",
   "execution_count": 46,
   "metadata": {},
   "outputs": [],
   "source": [
    "df_lol_duo_match = pd.DataFrame({\"AD\": [\"시비르\", \"이즈리얼\", \"시비르\", \"이즈리얼\"],\n",
    "                                 \"SUP\": [\"알리스타\", \"알리스타\", \"소라카\", \"소라카\"],\n",
    "                                 \"WIN_RATE\" : [0.5, 0.4, 0.6, 0.6],\n",
    "                                 \"PICK_RATE\": [0.06, 0.11, 0.07, 0.03]})"
   ]
  },
  {
   "cell_type": "code",
   "execution_count": 57,
   "metadata": {},
   "outputs": [],
   "source": [
    "AD_dropdown = widgets.Dropdown(description='AD Champ:',\n",
    "                               value=None,\n",
    "                               options=df_lol_duo_match['AD'].tolist(),\n",
    "                              name=\"AD\")"
   ]
  },
  {
   "cell_type": "code",
   "execution_count": 48,
   "metadata": {},
   "outputs": [],
   "source": [
    "trace1 = go.Bar(x=df_lol_duo_match[\"SUP\"], y=df_lol_duo_match[\"WIN_RATE\"], opacity=0.75, name='Arrival Delays')"
   ]
  },
  {
   "cell_type": "code",
   "execution_count": 49,
   "metadata": {},
   "outputs": [],
   "source": [
    "# trace2 = go.Bar(x=df['dep_delay'], opacity=0.75, name='Departure Delays')\n",
    "g = go.FigureWidget(data=[trace1, trace1])\n",
    "# g = go.FigureWidget(data=[trace1, trace2],\n",
    "#                     layout=go.Layout(\n",
    "#                         title=dict(\n",
    "#                             text='NYC FlightDatabase'\n",
    "#                         ),\n",
    "#                         barmode='overlay'\n",
    "#                     ))"
   ]
  },
  {
   "cell_type": "code",
   "execution_count": null,
   "metadata": {},
   "outputs": [],
   "source": []
  },
  {
   "cell_type": "code",
   "execution_count": 50,
   "metadata": {},
   "outputs": [
    {
     "data": {
      "text/html": [
       "<div>\n",
       "<style scoped>\n",
       "    .dataframe tbody tr th:only-of-type {\n",
       "        vertical-align: middle;\n",
       "    }\n",
       "\n",
       "    .dataframe tbody tr th {\n",
       "        vertical-align: top;\n",
       "    }\n",
       "\n",
       "    .dataframe thead th {\n",
       "        text-align: right;\n",
       "    }\n",
       "</style>\n",
       "<table border=\"1\" class=\"dataframe\">\n",
       "  <thead>\n",
       "    <tr style=\"text-align: right;\">\n",
       "      <th></th>\n",
       "      <th>AD</th>\n",
       "      <th>SUP</th>\n",
       "      <th>WIN_RATE</th>\n",
       "      <th>PICK_RATE</th>\n",
       "    </tr>\n",
       "  </thead>\n",
       "  <tbody>\n",
       "  </tbody>\n",
       "</table>\n",
       "</div>"
      ],
      "text/plain": [
       "Empty DataFrame\n",
       "Columns: [AD, SUP, WIN_RATE, PICK_RATE]\n",
       "Index: []"
      ]
     },
     "execution_count": 50,
     "metadata": {},
     "output_type": "execute_result"
    }
   ],
   "source": [
    "df_lol_duo_match.query(\"AD == @AD_dropdown.value\")"
   ]
  },
  {
   "cell_type": "code",
   "execution_count": null,
   "metadata": {},
   "outputs": [],
   "source": []
  },
  {
   "cell_type": "code",
   "execution_count": 58,
   "metadata": {},
   "outputs": [],
   "source": [
    "def response(change):\n",
    "    print(change)\n",
    "    temp_df = df_lol_duo_match.query(\"AD == @AD_dropdown.value\")\n",
    "\n",
    "    with g.batch_update():\n",
    "        g.data[0].x = temp_df[\"SUP\"]\n",
    "        g.data[0].y = temp_df[\"WIN_RATE\"]\n",
    "        g.layout.xaxis.title = 'Delay in Minutes'\n",
    "        g.layout.yaxis.title = 'Number of Delays'\n",
    "\n",
    "\n",
    "AD_dropdown.observe(response, names=\"value\")"
   ]
  },
  {
   "cell_type": "code",
   "execution_count": 59,
   "metadata": {},
   "outputs": [
    {
     "data": {
      "application/vnd.jupyter.widget-view+json": {
       "model_id": "22708ab9475c42ada3e713ff53269e57",
       "version_major": 2,
       "version_minor": 0
      },
      "text/plain": [
       "Dropdown(description='AD Champ:', options=('시비르', '이즈리얼', '시비르', '이즈리얼'), value=None)"
      ]
     },
     "metadata": {},
     "output_type": "display_data"
    },
    {
     "name": "stdout",
     "output_type": "stream",
     "text": [
      "{'name': 'value', 'old': None, 'new': '이즈리얼', 'owner': Dropdown(description='AD Champ:', index=1, options=('시비르', '이즈리얼', '시비르', '이즈리얼'), value='이즈리얼'), 'type': 'change'}\n",
      "{'name': 'value', 'old': '이즈리얼', 'new': '시비르', 'owner': Dropdown(description='AD Champ:', index=2, options=('시비르', '이즈리얼', '시비르', '이즈리얼'), value='시비르'), 'type': 'change'}\n",
      "{'name': 'value', 'old': '시비르', 'new': '이즈리얼', 'owner': Dropdown(description='AD Champ:', index=1, options=('시비르', '이즈리얼', '시비르', '이즈리얼'), value='이즈리얼'), 'type': 'change'}\n"
     ]
    }
   ],
   "source": [
    "AD_dropdown"
   ]
  },
  {
   "cell_type": "code",
   "execution_count": 52,
   "metadata": {},
   "outputs": [
    {
     "data": {
      "text/plain": [
       "Bar({\n",
       "    'name': 'Arrival Delays',\n",
       "    'opacity': 0.75,\n",
       "    'uid': '3368c9a8-93e3-4583-a238-b982a2270e24',\n",
       "    'x': array(['알리스타', '알리스타', '소라카', '소라카'], dtype=object),\n",
       "    'y': array([0.5, 0.4, 0.6, 0.6])\n",
       "})"
      ]
     },
     "execution_count": 52,
     "metadata": {},
     "output_type": "execute_result"
    }
   ],
   "source": [
    "g.data[1]"
   ]
  },
  {
   "cell_type": "markdown",
   "metadata": {},
   "source": [
    "AD나 서폿 고르면 듀오 챔에 따른 승률, 픽률"
   ]
  },
  {
   "cell_type": "code",
   "execution_count": 53,
   "metadata": {},
   "outputs": [
    {
     "data": {
      "application/vnd.jupyter.widget-view+json": {
       "model_id": "26afeefcb10e4dd0bb655a7c6011d20a",
       "version_major": 2,
       "version_minor": 0
      },
      "text/plain": [
       "VBox(children=(HBox(children=(Dropdown(description='AD Champ:', options=('시비르', '이즈리얼'), value=None),)), Figur…"
      ]
     },
     "metadata": {},
     "output_type": "display_data"
    },
    {
     "name": "stdout",
     "output_type": "stream",
     "text": [
      "{'name': 'value', 'old': None, 'new': '시비르', 'owner': Dropdown(description='AD Champ:', options=('시비르', '이즈리얼'), value='시비르'), 'type': 'change'}\n"
     ]
    }
   ],
   "source": [
    "widgets.VBox([widgets.HBox([AD_dropdown]),\n",
    "              g])"
   ]
  },
  {
   "cell_type": "markdown",
   "metadata": {},
   "source": [
    "AD로 선택할지 서폿을 선택할지도 체크박스"
   ]
  },
  {
   "cell_type": "code",
   "execution_count": 38,
   "metadata": {},
   "outputs": [
    {
     "data": {
      "text/plain": [
       "'AD Champ:'"
      ]
     },
     "execution_count": 38,
     "metadata": {},
     "output_type": "execute_result"
    }
   ],
   "source": [
    "AD_dropdown.description"
   ]
  },
  {
   "cell_type": "code",
   "execution_count": null,
   "metadata": {},
   "outputs": [],
   "source": []
  }
 ],
 "metadata": {
  "kernelspec": {
   "display_name": "Python 3",
   "language": "python",
   "name": "python3"
  },
  "language_info": {
   "codemirror_mode": {
    "name": "ipython",
    "version": 3
   },
   "file_extension": ".py",
   "mimetype": "text/x-python",
   "name": "python",
   "nbconvert_exporter": "python",
   "pygments_lexer": "ipython3",
   "version": "3.8.3"
  }
 },
 "nbformat": 4,
 "nbformat_minor": 2
}
