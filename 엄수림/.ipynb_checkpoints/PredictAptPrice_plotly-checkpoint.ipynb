{
 "cells": [
  {
   "cell_type": "code",
   "execution_count": 1,
   "metadata": {},
   "outputs": [],
   "source": [
    "import numpy as np\n",
    "import pandas as pd\n",
    "\n",
    "# # import plotly standard\n",
    "# import plotly.plotly as py\n",
    "# import plotly.graph_objs as go\n",
    "# import plotly.figure_factory as ff\n",
    "\n",
    "# # Cufflinks wrapper on plotly\n",
    "# import cufflinks as cf\n",
    "\n",
    "# # Display all cell outputs\n",
    "# from IPython.core.interactiveshell import InteractiveShell\n",
    "\n",
    "# # plotly + cufflinks in offline mode\n",
    "# from plotly.offline import iplot\n",
    "# cf.go_offline()\n",
    "\n",
    "# # set the global theme\n",
    "# cf.set_config_file(world_readable=True, theme='pearl', offline=True)\n",
    "\n",
    "import warnings \n",
    "warnings.filterwarnings('ignore')"
   ]
  },
  {
   "cell_type": "code",
   "execution_count": 2,
   "metadata": {},
   "outputs": [],
   "source": [
    "train = pd.read_csv('../../data/train.csv')\n",
    "park = pd.read_csv('../../data/park.csv')\n",
    "day_care_center = pd.read_csv('../../data/day_care_center.csv')"
   ]
  },
  {
   "cell_type": "code",
   "execution_count": 3,
   "metadata": {},
   "outputs": [
    {
     "data": {
      "text/html": [
       "<div>\n",
       "<style scoped>\n",
       "    .dataframe tbody tr th:only-of-type {\n",
       "        vertical-align: middle;\n",
       "    }\n",
       "\n",
       "    .dataframe tbody tr th {\n",
       "        vertical-align: top;\n",
       "    }\n",
       "\n",
       "    .dataframe thead th {\n",
       "        text-align: right;\n",
       "    }\n",
       "</style>\n",
       "<table border=\"1\" class=\"dataframe\">\n",
       "  <thead>\n",
       "    <tr style=\"text-align: right;\">\n",
       "      <th></th>\n",
       "      <th>transaction_id</th>\n",
       "      <th>apartment_id</th>\n",
       "      <th>city</th>\n",
       "      <th>dong</th>\n",
       "      <th>jibun</th>\n",
       "      <th>apt</th>\n",
       "      <th>addr_kr</th>\n",
       "      <th>exclusive_use_area</th>\n",
       "      <th>year_of_completion</th>\n",
       "      <th>transaction_year_month</th>\n",
       "      <th>transaction_date</th>\n",
       "      <th>floor</th>\n",
       "      <th>transaction_real_price</th>\n",
       "    </tr>\n",
       "  </thead>\n",
       "  <tbody>\n",
       "    <tr>\n",
       "      <td>0</td>\n",
       "      <td>0</td>\n",
       "      <td>7622</td>\n",
       "      <td>서울특별시</td>\n",
       "      <td>신교동</td>\n",
       "      <td>6-13</td>\n",
       "      <td>신현(101동)</td>\n",
       "      <td>신교동 6-13 신현(101동)</td>\n",
       "      <td>84.82</td>\n",
       "      <td>2002</td>\n",
       "      <td>200801</td>\n",
       "      <td>21~31</td>\n",
       "      <td>2</td>\n",
       "      <td>37500</td>\n",
       "    </tr>\n",
       "    <tr>\n",
       "      <td>1</td>\n",
       "      <td>1</td>\n",
       "      <td>5399</td>\n",
       "      <td>서울특별시</td>\n",
       "      <td>필운동</td>\n",
       "      <td>142</td>\n",
       "      <td>사직파크맨션</td>\n",
       "      <td>필운동 142 사직파크맨션</td>\n",
       "      <td>99.17</td>\n",
       "      <td>1973</td>\n",
       "      <td>200801</td>\n",
       "      <td>1~10</td>\n",
       "      <td>6</td>\n",
       "      <td>20000</td>\n",
       "    </tr>\n",
       "    <tr>\n",
       "      <td>2</td>\n",
       "      <td>2</td>\n",
       "      <td>3578</td>\n",
       "      <td>서울특별시</td>\n",
       "      <td>필운동</td>\n",
       "      <td>174-1</td>\n",
       "      <td>두레엘리시안</td>\n",
       "      <td>필운동 174-1 두레엘리시안</td>\n",
       "      <td>84.74</td>\n",
       "      <td>2007</td>\n",
       "      <td>200801</td>\n",
       "      <td>1~10</td>\n",
       "      <td>6</td>\n",
       "      <td>38500</td>\n",
       "    </tr>\n",
       "    <tr>\n",
       "      <td>3</td>\n",
       "      <td>3</td>\n",
       "      <td>10957</td>\n",
       "      <td>서울특별시</td>\n",
       "      <td>내수동</td>\n",
       "      <td>95</td>\n",
       "      <td>파크팰리스</td>\n",
       "      <td>내수동 95 파크팰리스</td>\n",
       "      <td>146.39</td>\n",
       "      <td>2003</td>\n",
       "      <td>200801</td>\n",
       "      <td>11~20</td>\n",
       "      <td>15</td>\n",
       "      <td>118000</td>\n",
       "    </tr>\n",
       "    <tr>\n",
       "      <td>4</td>\n",
       "      <td>4</td>\n",
       "      <td>10639</td>\n",
       "      <td>서울특별시</td>\n",
       "      <td>내수동</td>\n",
       "      <td>110-15</td>\n",
       "      <td>킹스매너</td>\n",
       "      <td>내수동 110-15 킹스매너</td>\n",
       "      <td>194.43</td>\n",
       "      <td>2004</td>\n",
       "      <td>200801</td>\n",
       "      <td>21~31</td>\n",
       "      <td>3</td>\n",
       "      <td>120000</td>\n",
       "    </tr>\n",
       "  </tbody>\n",
       "</table>\n",
       "</div>"
      ],
      "text/plain": [
       "   transaction_id  apartment_id   city dong   jibun       apt  \\\n",
       "0               0          7622  서울특별시  신교동    6-13  신현(101동)   \n",
       "1               1          5399  서울특별시  필운동     142    사직파크맨션   \n",
       "2               2          3578  서울특별시  필운동   174-1    두레엘리시안   \n",
       "3               3         10957  서울특별시  내수동      95     파크팰리스   \n",
       "4               4         10639  서울특별시  내수동  110-15      킹스매너   \n",
       "\n",
       "             addr_kr  exclusive_use_area  year_of_completion  \\\n",
       "0  신교동 6-13 신현(101동)               84.82                2002   \n",
       "1     필운동 142 사직파크맨션               99.17                1973   \n",
       "2   필운동 174-1 두레엘리시안               84.74                2007   \n",
       "3       내수동 95 파크팰리스              146.39                2003   \n",
       "4    내수동 110-15 킹스매너              194.43                2004   \n",
       "\n",
       "   transaction_year_month transaction_date  floor  transaction_real_price  \n",
       "0                  200801            21~31      2                   37500  \n",
       "1                  200801             1~10      6                   20000  \n",
       "2                  200801             1~10      6                   38500  \n",
       "3                  200801            11~20     15                  118000  \n",
       "4                  200801            21~31      3                  120000  "
      ]
     },
     "execution_count": 3,
     "metadata": {},
     "output_type": "execute_result"
    }
   ],
   "source": [
    "train.head()"
   ]
  },
  {
   "cell_type": "code",
   "execution_count": 9,
   "metadata": {},
   "outputs": [
    {
     "ename": "ModuleNotFoundError",
     "evalue": "No module named 'plotly.express'",
     "output_type": "error",
     "traceback": [
      "\u001b[1;31m---------------------------------------------------------------------------\u001b[0m",
      "\u001b[1;31mModuleNotFoundError\u001b[0m                       Traceback (most recent call last)",
      "\u001b[1;32m<ipython-input-9-a3e263a995c0>\u001b[0m in \u001b[0;36m<module>\u001b[1;34m\u001b[0m\n\u001b[1;32m----> 1\u001b[1;33m \u001b[1;32mimport\u001b[0m \u001b[0mplotly\u001b[0m\u001b[1;33m.\u001b[0m\u001b[0mexpress\u001b[0m \u001b[1;32mas\u001b[0m \u001b[0mpx\u001b[0m\u001b[1;33m\u001b[0m\u001b[1;33m\u001b[0m\u001b[0m\n\u001b[0m\u001b[0;32m      2\u001b[0m \u001b[0mfit\u001b[0m \u001b[1;33m=\u001b[0m \u001b[0mpx\u001b[0m\u001b[1;33m.\u001b[0m\u001b[0mhistogram\u001b[0m\u001b[1;33m(\u001b[0m\u001b[0mtrain\u001b[0m\u001b[1;33m,\u001b[0m \u001b[0mx\u001b[0m\u001b[1;33m=\u001b[0m\u001b[1;34m'dong'\u001b[0m\u001b[1;33m)\u001b[0m\u001b[1;33m\u001b[0m\u001b[1;33m\u001b[0m\u001b[0m\n",
      "\u001b[1;31mModuleNotFoundError\u001b[0m: No module named 'plotly.express'"
     ]
    }
   ],
   "source": [
    "import plotly.express as px\n",
    "fit = px.histogram(train, x='dong')"
   ]
  },
  {
   "cell_type": "code",
   "execution_count": 6,
   "metadata": {},
   "outputs": [
    {
     "data": {
      "text/html": [
       "        <script type=\"text/javascript\">\n",
       "        window.PlotlyConfig = {MathJaxConfig: 'local'};\n",
       "        if (window.MathJax) {MathJax.Hub.Config({SVG: {font: \"STIX-Web\"}});}\n",
       "        if (typeof require !== 'undefined') {\n",
       "        require.undef(\"plotly\");\n",
       "        requirejs.config({\n",
       "            paths: {\n",
       "                'plotly': ['https://cdn.plot.ly/plotly-latest.min']\n",
       "            }\n",
       "        });\n",
       "        require(['plotly'], function(Plotly) {\n",
       "            window._Plotly = Plotly;\n",
       "        });\n",
       "        }\n",
       "        </script>\n",
       "        "
      ]
     },
     "metadata": {},
     "output_type": "display_data"
    },
    {
     "data": {
      "application/vnd.plotly.v1+json": {
       "config": {
        "linkText": "Export to plot.ly",
        "plotlyServerURL": "https://plot.ly",
        "showLink": false
       },
       "data": [
        {
         "labels": [
          "서울특별시",
          "부산광역시"
         ],
         "type": "pie",
         "uid": "7e0f584a-b1c3-4206-aa21-f982476c33f1",
         "values": [
          742285,
          474268
         ]
        }
       ],
       "layout": {}
      },
      "text/html": [
       "<div>\n",
       "        \n",
       "        \n",
       "            <div id=\"52ad62e8-6348-45b5-89a4-433ab11b270b\" class=\"plotly-graph-div\" style=\"height:525px; width:100%;\"></div>\n",
       "            <script type=\"text/javascript\">\n",
       "                require([\"plotly\"], function(Plotly) {\n",
       "                    window.PLOTLYENV=window.PLOTLYENV || {};\n",
       "                    window.PLOTLYENV.BASE_URL='https://plot.ly';\n",
       "                    \n",
       "                if (document.getElementById(\"52ad62e8-6348-45b5-89a4-433ab11b270b\")) {\n",
       "                    Plotly.newPlot(\n",
       "                        '52ad62e8-6348-45b5-89a4-433ab11b270b',\n",
       "                        [{\"labels\": [\"\\uc11c\\uc6b8\\ud2b9\\ubcc4\\uc2dc\", \"\\ubd80\\uc0b0\\uad11\\uc5ed\\uc2dc\"], \"type\": \"pie\", \"uid\": \"7e0f584a-b1c3-4206-aa21-f982476c33f1\", \"values\": [742285, 474268]}],\n",
       "                        {},\n",
       "                        {\"showLink\": false, \"linkText\": \"Export to plot.ly\", \"plotlyServerURL\": \"https://plot.ly\", \"responsive\": true}\n",
       "                    ).then(function(){\n",
       "                            \n",
       "var gd = document.getElementById('52ad62e8-6348-45b5-89a4-433ab11b270b');\n",
       "var x = new MutationObserver(function (mutations, observer) {{\n",
       "        var display = window.getComputedStyle(gd).display;\n",
       "        if (!display || display === 'none') {{\n",
       "            console.log([gd, 'removed!']);\n",
       "            Plotly.purge(gd);\n",
       "            observer.disconnect();\n",
       "        }}\n",
       "}});\n",
       "\n",
       "// Listen for the removal of the full notebook cells\n",
       "var notebookContainer = gd.closest('#notebook-container');\n",
       "if (notebookContainer) {{\n",
       "    x.observe(notebookContainer, {childList: true});\n",
       "}}\n",
       "\n",
       "// Listen for the clearing of the current output cell\n",
       "var outputEl = gd.closest('.output');\n",
       "if (outputEl) {{\n",
       "    x.observe(outputEl, {childList: true});\n",
       "}}\n",
       "\n",
       "                        })\n",
       "                };\n",
       "                });\n",
       "            </script>\n",
       "        </div>"
      ]
     },
     "metadata": {},
     "output_type": "display_data"
    }
   ],
   "source": [
    "import plotly.offline as py\n",
    "import plotly.graph_objs as go\n",
    "\n",
    "py.init_notebook_mode(connected=True)\n",
    "\n",
    "labels = train['city'].unique()\n",
    "values = train['city'].value_counts()\n",
    "fig = go.Figure(data=[go.Pie(labels=labels, values=values)])\n",
    "\n",
    "py.iplot(fig, filename='pie-chart')"
   ]
  },
  {
   "cell_type": "code",
   "execution_count": null,
   "metadata": {},
   "outputs": [],
   "source": []
  }
 ],
 "metadata": {
  "kernelspec": {
   "display_name": "Python 3",
   "language": "python",
   "name": "python3"
  },
  "language_info": {
   "codemirror_mode": {
    "name": "ipython",
    "version": 3
   },
   "file_extension": ".py",
   "mimetype": "text/x-python",
   "name": "python",
   "nbconvert_exporter": "python",
   "pygments_lexer": "ipython3",
   "version": "3.7.4"
  }
 },
 "nbformat": 4,
 "nbformat_minor": 2
}
