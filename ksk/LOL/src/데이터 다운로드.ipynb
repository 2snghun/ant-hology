{
 "cells": [
  {
   "cell_type": "markdown",
   "metadata": {},
   "source": [
    "# <a id='index'> 목차 </a>\n",
    "\n",
    "<ol style=\"list-style-type: decimal;\">\n",
    "    <li><font color=\"black\"><a href=\"#basic_settings\"> 기본 세팅 </a></font></li>\n",
    "    <ol style=\"list-style-type: decimal;\">\n",
    "        <li><a href=\"#library\">라이브러리 </a></li>\n",
    "        <li><a href=\"#api_key\">API KEY</a></li>\n",
    "    </ol>\n",
    "    <li><font color=\"black\"><a href=\"#download_data\"> 데이터 다운로드 </a></font></li>\n",
    "    <ol style=\"list-style-type: decimal;\">\n",
    "        <li><a href=\"#check_version\"> 버전 확인 </a></li>\n",
    "        <li><a href=\"#champ_data\"> 챔피언 데이터 </a></li>\n",
    "        <li><a href=\"#match_data\"> 매치 데이터 </a></li>\n",
    "        <ol style=\"list-style-type: decimal;\">\n",
    "            <li><a href=\"#user_id\"> 티어별 유저 아이디 </a></li>\n",
    "            <li><a href=\"#match_data_sub\"> 매치 데이터 </a></li>\n",
    "        </ol>\n",
    "    </ol>\n",
    "    <li><font color=\"black\"> 참고 사이트 </font></li>\n",
    "    <ol style=\"list-style-type: decimal;\">\n",
    "        <li><a href=\"https://right1203.github.io/study/2019/02/28/lol-duo-tier/\"> 롤 API </a></li>\n",
    "        <li><a href=\"https://plotly.com/python/figurewidget-app/\"> Interactive Plotly </a></li>\n",
    "        <li><a href=\"https://hogni.tistory.com/86\"> Plotly Bar </a></li>\n",
    "        <li><a href=\"https://riot-watcher.readthedocs.io/en/latest/\"> LolWatchers </a></li>\n",
    "    </ol>\n",
    "</ol>"
   ]
  },
  {
   "cell_type": "markdown",
   "metadata": {},
   "source": [
    "# <a id='basic_settings'> 1. 기본 세팅 </a> <font size=1> [목차](#index) </font>\n",
    "> 1. 라이브러리\n",
    "> 1. API_KEY"
   ]
  },
  {
   "cell_type": "markdown",
   "metadata": {},
   "source": [
    "> ### <a id='library'> 1. 라이브러리 </a> <font size=1> [목차](#index) </font>\n",
    "    - 데이터를 다운로드 하는데 필요한 라이브러리 설치"
   ]
  },
  {
   "cell_type": "code",
   "execution_count": 47,
   "metadata": {},
   "outputs": [],
   "source": [
    "import os  # .env에서 API_KEY를 받아오는데 사용\n",
    "import requests # LOL API로 다운로드 받을 때 사용\n",
    "import json  # LOL API로 받은 json파일 읽을 때 사용\n",
    "import pandas as pd  # 데이터 읽고 저장할 때 사용 \n",
    "import time  # API 요청 제한 걸렸을 때 잠시 대기하는데 사용\n",
    "from tqdm.notebook import tqdm  # loop 돌 때 진행정도 파악하는데 사용\n",
    "from tqdm import trange\n",
    "from packaging import version  # 최신 버전 가져올 때 사용\n",
    "import ast  # quotes list 처리할 때 사용\n",
    "import pickle  # pickle 파일 저장할 때"
   ]
  },
  {
   "cell_type": "markdown",
   "metadata": {},
   "source": [
    "> ### <a id='API_KEY'> 2. API KEY </a> <font size=1> [목차](#index) </font>\n",
    "> - 환경변수에 저장된 API KEY 세팅\n",
    ">     - API KEY가 매일 만료되기 때문에 매 번 수정해서 사용해야 함"
   ]
  },
  {
   "cell_type": "code",
   "execution_count": 41,
   "metadata": {},
   "outputs": [],
   "source": [
    "api_key = os.environ[\"API_KEY\"]"
   ]
  },
  {
   "cell_type": "markdown",
   "metadata": {},
   "source": [
    "# <a id='download_data'> 2. 데이터 다운로드 </a> <font size=1> [목차](#index) </font>\n",
    "> 1. 버전확인\n",
    "> 1. 챔피언 데이터\n",
    "> 1. 매치 데이터\n",
    ">> <ol style=\"list-style-type: decimal;\">\n",
    "    <li> 티어별 유저 아이디 </li>\n",
    "    <li> 매치 데이터 </li>\n",
    "   </ol>"
   ]
  },
  {
   "cell_type": "markdown",
   "metadata": {},
   "source": [
    "> ### <a id='check_version'> 1. 버전 확인 </a> <font size=1> [목차](#index) </font>\n",
    "> - 챔피언 데이터를 뽑을 때 사용할 롤 버전 확인"
   ]
  },
  {
   "cell_type": "code",
   "execution_count": 71,
   "metadata": {},
   "outputs": [
    {
     "data": {
      "text/plain": [
       "'10.19.1'"
      ]
     },
     "execution_count": 71,
     "metadata": {},
     "output_type": "execute_result"
    }
   ],
   "source": [
    "r = requests.get('https://ddragon.leagueoflegends.com/api/versions.json') # version data 확인\n",
    "current_version = r.json()[0] # 가장 최신 버전 확인\n",
    "current_version"
   ]
  },
  {
   "cell_type": "markdown",
   "metadata": {},
   "source": [
    "> ### <a id='champ_data'> 2. 챔피언 데이터 </a> <font size=1> [목차](#index) </font>\n",
    "> - 이후 데이터에서 챔피언 정보가 키 값으로 저장되어 있기 때문에 사용할 챔피언 마스터 데이터"
   ]
  },
  {
   "cell_type": "code",
   "execution_count": 72,
   "metadata": {},
   "outputs": [],
   "source": [
    "# 현재 버전의 챔피언 데이터\n",
    "api_url = f\"http://ddragon.leagueoflegends.com/cdn/{current_version}/data/ko_KR/champion.json\"\n",
    "r = requests.get(api_url)\n",
    "parsed_data = r.json() # 파싱\n",
    "df_info = pd.DataFrame(parsed_data)\n",
    "\n",
    "# df_info의 data 값들을 데이터프레임으로 변환\n",
    "\n",
    "# 데이터의 각 행을 시리즈 형태로 변환하여 딕셔너리에 추가\n",
    "dict_champ = {}\n",
    "for _i, _champ in enumerate(df_info.data):\n",
    "    dict_champ[_i] = pd.Series(_champ)\n",
    "\n",
    "# 데이터 프레임 변환 후 Transpose\n",
    "df_champ = pd.DataFrame(dict_champ).T\n",
    "\n",
    "# output : 챔피언 데이터 안에도 info와 stats가 딕셔너리 형태임\n",
    "# 이 데이터들을 데이터프레임으로 변환하여 각 챔피언에 대한 변수로 추가해야 한다.\n",
    "\n",
    "# champ_df의 info, stats의 데이터를 변수로 추가\n",
    "df_champ_info = pd.DataFrame(dict(df_champ['info'])).T\n",
    "df_champ_stats = pd.DataFrame(dict(df_champ['stats'])).T\n",
    "\n",
    "# 데이터 합치기\n",
    "df_champ = pd.concat([df_champ, df_champ_info], axis=1)\n",
    "df_champ = pd.concat([df_champ, df_champ_stats], axis=1)\n",
    "\n",
    "# 이번 분석에서 필요없는 데이터 제거\n",
    "# df_champ = df_champ.drop(['image', 'info', 'stats'], axis=1)\n",
    "df_champ.to_csv(\"../data/df_champ.csv\", index=False)\n",
    "df_champ[[]].to_csv(\"../data/df_champ_final.csv\", index=False)"
   ]
  },
  {
   "cell_type": "markdown",
   "metadata": {},
   "source": [
    "> ### <a id='match_data'> 3. 매치 데이터 </a> <font size=1> [목차](#index) </font>\n",
    ">> <ol>\n",
    "    <li>티어별 유저 아이디</li>\n",
    "    <li>매치 데이터</li>\n",
    "   </ol>\n",
    "> - 매치 데이터를 얻기 위해서 먼저 유저별 아이디 정보로부터 Account ID를 받아옴"
   ]
  },
  {
   "cell_type": "markdown",
   "metadata": {},
   "source": [
    ">> ##### <a id='user_id'> 1. 티어별 유저 아이디 </a> <font size=1> [목차](#index) </font>\n",
    ">> - 먼저, (챌린저, 그마, 마스터) 유저의 아이디를 받아온 후\n",
    ">> - 게임 ID를 받아오기 위해 Account ID를 받아옴 (유저 ID와 게임 ID는 1:1 매칭)"
   ]
  },
  {
   "cell_type": "code",
   "execution_count": 47,
   "metadata": {
    "scrolled": true
   },
   "outputs": [
    {
     "ename": "SyntaxError",
     "evalue": "EOL while scanning string literal (<ipython-input-47-4fc44f201722>, line 3)",
     "output_type": "error",
     "traceback": [
      "\u001b[1;36m  File \u001b[1;32m\"<ipython-input-47-4fc44f201722>\"\u001b[1;36m, line \u001b[1;32m3\u001b[0m\n\u001b[1;33m    api_url_challenger = 'https://kr.api.riotgames.com/lol/league/v4/challengerleagues/by-queue/RANKED_SOLO_5x5?api_key={api_key}\"\u001b[0m\n\u001b[1;37m                                                                                                                                  ^\u001b[0m\n\u001b[1;31mSyntaxError\u001b[0m\u001b[1;31m:\u001b[0m EOL while scanning string literal\n"
     ]
    }
   ],
   "source": [
    "# 유저 아이디 받아오기\n",
    "\n",
    "api_url_challenger = f\"https://kr.api.riotgames.com/lol/league/v4/challengerleagues/by-queue/RANKED_SOLO_5x5?api_key={api_key}\"\n",
    "api_url_grandmaster = f\"https://kr.api.riotgames.com/lol/league/v4/grandmasterleagues/by-queue/RANKED_SOLO_5x5?api_key={api_key}\"\n",
    "api_url_master = f\"https://kr.api.riotgames.com/lol/league/v4/masterleagues/by-queue/RANKED_SOLO_5x5?api_key={api_key}\"\n",
    "# 그랜드마스터, 마스터 데이터 가져와서 데이터프레임으로 변환\n",
    "r = requests.get(api_url_challenger)\n",
    "df_league = pd.DataFrame(r.json())\n",
    "r = requests.get(api_url_grandmaster)\n",
    "df_league = pd.concat([df_league, pd.DataFrame(r.json())], axis=0)\n",
    "r = requests.get(api_url_master)\n",
    "df_league = pd.concat([df_league, pd.DataFrame(r.json())], axis=0)\n",
    "\n",
    "# entries 데이터프레임으로 변환하여 추가\n",
    "df_league.reset_index(inplace=True)\n",
    "df_league_entries = pd.DataFrame(dict(df_league['entries'])).T\n",
    "df_league = pd.concat([df_league, df_league_entries], axis=1)"
   ]
  },
  {
   "cell_type": "code",
   "execution_count": 46,
   "metadata": {
    "scrolled": false
   },
   "outputs": [
    {
     "ename": "SyntaxError",
     "evalue": "invalid syntax (<ipython-input-46-2c05778d4ff7>, line 6)",
     "output_type": "error",
     "traceback": [
      "\u001b[1;36m  File \u001b[1;32m\"<ipython-input-46-2c05778d4ff7>\"\u001b[1;36m, line \u001b[1;32m6\u001b[0m\n\u001b[1;33m    sohwan = fhttps://kr.api.riotgames.com/lol/summoner/v4/summoners/by-name/{_summoner_name}?api_key={api_key}\"\u001b[0m\n\u001b[1;37m                   ^\u001b[0m\n\u001b[1;31mSyntaxError\u001b[0m\u001b[1;31m:\u001b[0m invalid syntax\n"
     ]
    }
   ],
   "source": [
    "# Acount ID 받아오기\n",
    "\n",
    "account_ids = []\n",
    "for _i, _summoner_name in tqdm(enumerate(df_league.summonerName), total=df_league.shape[0]):\n",
    "    try:\n",
    "        api_url = f\"https://kr.api.riotgames.com/lol/summoner/v4/summoners/by-name/{_summoner_name}?api_key={api_key}\"\n",
    "        r = requests.get(sohwan)\n",
    "        \n",
    "        while r.status_code == 429:\n",
    "            time.sleep(5)\n",
    "            api_url = f\"https://kr.api.riotgames.com/lol/summoner/v4/summoners/by-name/{_summoner_name}?api_key={api_key}\"\n",
    "            r = requests.get(api_url)\n",
    "            \n",
    "        account_ids += [r.json()['accountId']]   \n",
    "     \n",
    "    except Exception as e:\n",
    "        account_ids += [None]\n",
    "        pass\n",
    "df_league[\"accountId\"] = account_ids\n",
    "df_league = df_league.dropna().reset_index()  # accountId가 Na인 것 삭제 (ID가 바뀐 경우)\n",
    "df_league.to_csv(\"../data/df_league.csv\", index=False)\n",
    "df_league.drop(['index', 'queue', 'name', 'leagueId', 'entries', 'rank'], axis=1).to_csv(\"../data/df_league_final.csv\", index=False)"
   ]
  },
  {
   "cell_type": "markdown",
   "metadata": {},
   "source": [
    ">> ##### <a id='match_data_sub'> 2. 매치 데이터 </a> <font size=1> [목차](#index) </font>\n",
    ">> - 먼저 Game ID를 받아온 후에\n",
    ">>     - Game ID 당 10개인 것도 거의 없고, lane과 role도 잘못 적힌게 많음\n",
    ">> - 실제 매치 데이터를 받아옴"
   ]
  },
  {
   "cell_type": "code",
   "execution_count": 45,
   "metadata": {
    "scrolled": true
   },
   "outputs": [
    {
     "ename": "SyntaxError",
     "evalue": "EOL while scanning string literal (<ipython-input-45-c21c3cbae8b1>, line 5)",
     "output_type": "error",
     "traceback": [
      "\u001b[1;36m  File \u001b[1;32m\"<ipython-input-45-c21c3cbae8b1>\"\u001b[1;36m, line \u001b[1;32m5\u001b[0m\n\u001b[1;33m    '?api_key=' + api_key\u001b[0m\n\u001b[1;37m                         \n^\u001b[0m\n\u001b[1;31mSyntaxError\u001b[0m\u001b[1;31m:\u001b[0m EOL while scanning string literal\n"
     ]
    }
   ],
   "source": [
    "# Game ID를 받아옴\n",
    "df_match_info = pd.DataFrame()\n",
    "for _idx, _account_id in tqdm(enumerate(df_league['accountId']), total=df_league.shape[0]):\n",
    "    api_url = f\"https://kr.api.riotgames.com/lol/match/v4/matchlists/by-account/{_account_id}?api_key={api_key}\"\n",
    "    r = requests.get(api_url)\n",
    "    while r.status_code!=200: # 요청 제한 또는 오류로 인해 정상적으로 받아오지 않는 상태라면, 2초 간 시간을 지연\n",
    "        time.sleep(2)\n",
    "        r = requests.get(api_url)\n",
    "    # 기존의 league 정보와 catesian product를 위해 임시 key 생성 후 merge\n",
    "    df_league_temp = df_league.loc[_idx:_idx, :].copy()\n",
    "    df_league_temp.loc[:, \"key\"] = 1\n",
    "    df_match_info_temp = pd.DataFrame(r.json()['matches']).reset_index(drop=True)\n",
    "    df_match_info_temp.loc[:, \"key\"] = 1\n",
    "    df_match_info_temp = pd.merge(df_league_temp, df_match_info_temp, on=\"key\")\n",
    "    \n",
    "    df_match_info = pd.concat([df_match_info, df_match_info_temp], axis=0)\n",
    "df_match_info.to_csv(\"../data/df_match_info.csv\", index=False)\n",
    "\n",
    "df_match_info_final = df_match_info_final[[\"\"]].copy()\n",
    "df_match_info_final = df_match_info_final.rename(columns={\"queue_x\": \"queue_value\", \"queue_y\": \"queue_key\"})\n",
    "df_match_info_final.to_csv(\"../data/df_match_info_final.csv\", index=False)"
   ]
  },
  {
   "cell_type": "code",
   "execution_count": 15,
   "metadata": {},
   "outputs": [],
   "source": [
    "# # 매치 데이터 받아옴\n",
    "df_match = pd.DataFrame()\n",
    "for _gaim_id in tqdm(df_match_info.gameId.unique(), total=df_match_info.shape[0]):\n",
    "# for _game_id in tqdm(df_match_info.gameId.unique(), total=len(df_match_info.gameId.unique())):\n",
    "    api_url = f\"https://kr.api.riotgames.com/lol/match/v4/matches/{_game_id}?api_key={api_key}\"\n",
    "    r = requests.get(api_url)\n",
    "    while r.status_code != 200:\n",
    "        time.sleep(5)\n",
    "        r = requests.get(api_url)\n",
    "    r_json = r.json()\n",
    "    df_match_temp = pd.DataFrame(list(r_json.values()), index=list(r_json.keys())).T\n",
    "    df_match = pd.concat([df_match, df_match_temp], axis=0)\n",
    "    \n",
    "# DataFrame 내의 리스트들이 파일로 저장되었다가 불러지는 과정에서 문자로 인식됨\n",
    "for column in ['teams', 'participants', 'participantIdentities']:\n",
    "    df_match[column] = df_match[column].map(ast.literal_eval) # 각 값에 대해 eval 함수를 적용\n",
    "# 버전 비교를 위해 파싱\n",
    "df_match[\"gameVersion\"] = df_match[\"gameVersion\"].map(version.parse)\n",
    "\n",
    "\n",
    "df_match.to_csv(\"../data/df_match.csv\", index=False)\n",
    "\n",
    "# 최신 버전과 CLASSIC 5x5 솔랭만 사용\n",
    "df_match_final = df_match.query(\"gameVersion >= @version.parse('10.18') & gameMode == 'CLASSIC' & queueId == 420\")\n",
    "df_match_final.to_csv(\"../data/df_match_final.csv\", index=False)"
   ]
  },
  {
   "cell_type": "code",
   "execution_count": 22,
   "metadata": {},
   "outputs": [
    {
     "data": {
      "text/html": [
       "<div>\n",
       "<style scoped>\n",
       "    .dataframe tbody tr th:only-of-type {\n",
       "        vertical-align: middle;\n",
       "    }\n",
       "\n",
       "    .dataframe tbody tr th {\n",
       "        vertical-align: top;\n",
       "    }\n",
       "\n",
       "    .dataframe thead th {\n",
       "        text-align: right;\n",
       "    }\n",
       "</style>\n",
       "<table border=\"1\" class=\"dataframe\">\n",
       "  <thead>\n",
       "    <tr style=\"text-align: right;\">\n",
       "      <th></th>\n",
       "      <th>teamId</th>\n",
       "      <th>win</th>\n",
       "      <th>firstBlood</th>\n",
       "      <th>firstTower</th>\n",
       "      <th>firstInhibitor</th>\n",
       "      <th>firstBaron</th>\n",
       "      <th>firstDragon</th>\n",
       "      <th>firstRiftHerald</th>\n",
       "      <th>towerKills</th>\n",
       "      <th>inhibitorKills</th>\n",
       "      <th>baronKills</th>\n",
       "      <th>dragonKills</th>\n",
       "      <th>vilemawKills</th>\n",
       "      <th>riftHeraldKills</th>\n",
       "      <th>dominionVictoryScore</th>\n",
       "      <th>bans</th>\n",
       "    </tr>\n",
       "  </thead>\n",
       "  <tbody>\n",
       "    <tr>\n",
       "      <th>0</th>\n",
       "      <td>100</td>\n",
       "      <td>Win</td>\n",
       "      <td>True</td>\n",
       "      <td>False</td>\n",
       "      <td>False</td>\n",
       "      <td>False</td>\n",
       "      <td>False</td>\n",
       "      <td>False</td>\n",
       "      <td>11</td>\n",
       "      <td>2</td>\n",
       "      <td>1</td>\n",
       "      <td>2</td>\n",
       "      <td>0</td>\n",
       "      <td>0</td>\n",
       "      <td>0</td>\n",
       "      <td>[{'championId': 7, 'pickTurn': 1}, {'championI...</td>\n",
       "    </tr>\n",
       "    <tr>\n",
       "      <th>1</th>\n",
       "      <td>200</td>\n",
       "      <td>Fail</td>\n",
       "      <td>False</td>\n",
       "      <td>True</td>\n",
       "      <td>True</td>\n",
       "      <td>True</td>\n",
       "      <td>True</td>\n",
       "      <td>True</td>\n",
       "      <td>8</td>\n",
       "      <td>1</td>\n",
       "      <td>1</td>\n",
       "      <td>3</td>\n",
       "      <td>0</td>\n",
       "      <td>2</td>\n",
       "      <td>0</td>\n",
       "      <td>[{'championId': -1, 'pickTurn': 6}, {'champion...</td>\n",
       "    </tr>\n",
       "  </tbody>\n",
       "</table>\n",
       "</div>"
      ],
      "text/plain": [
       "   teamId   win  firstBlood  firstTower  firstInhibitor  firstBaron  \\\n",
       "0     100   Win        True       False           False       False   \n",
       "1     200  Fail       False        True            True        True   \n",
       "\n",
       "   firstDragon  firstRiftHerald  towerKills  inhibitorKills  baronKills  \\\n",
       "0        False            False          11               2           1   \n",
       "1         True             True           8               1           1   \n",
       "\n",
       "   dragonKills  vilemawKills  riftHeraldKills  dominionVictoryScore  \\\n",
       "0            2             0                0                     0   \n",
       "1            3             0                2                     0   \n",
       "\n",
       "                                                bans  \n",
       "0  [{'championId': 7, 'pickTurn': 1}, {'championI...  \n",
       "1  [{'championId': -1, 'pickTurn': 6}, {'champion...  "
      ]
     },
     "execution_count": 22,
     "metadata": {},
     "output_type": "execute_result"
    }
   ],
   "source": [
    "pd.DataFrame(df_match_final['teams'].iloc[1])"
   ]
  },
  {
   "cell_type": "code",
   "execution_count": 25,
   "metadata": {},
   "outputs": [
    {
     "name": "stderr",
     "output_type": "stream",
     "text": [
      "100%|████████████████████████████████████████████████████████████████████████████| 22647/22647 [07:07<00:00, 52.92it/s]\n"
     ]
    }
   ],
   "source": [
    "## 매치 데이터에서 teams, participants, participantIdentities가 최종적으로 원하는 데이터이다.\n",
    "\n",
    "df_team_matches = pd.DataFrame()\n",
    "for i in trange(len(df_match_final)):\n",
    "    temp_df = pd.DataFrame(df_match_final['teams'].iloc[i]) # teams 데이터를 2행 짜리 데이터프레임으로 변환\n",
    "    temp_df['gameId'] = df_match_final['gameId'].iloc[i] # teams 데이터에 각 게임의 gameId 추가 (2행 마다 같은 값)\n",
    "    # teams 데이터에 있는 bans 데이터를 5개의 변수로 추가한다\n",
    "    ban_dict = {i: pd.DataFrame(temp_df['bans'][i]).iloc[:, 0] for i in range(2)} # 각 팀의 밴픽을 저장\n",
    "    temp_ban = pd.DataFrame(ban_dict).T\n",
    "    temp_ban.columns = [f'ban{i}' for i in range(1, 6)] # 열 이름 변경\n",
    "    temp_df = pd.concat([temp_df, temp_ban], axis=1)\n",
    "\n",
    "    df_team_matches = pd.concat([df_team_matches, temp_df])\n",
    "\n",
    "df_team_matches.to_csv(\"../data/df_team_matches.csv\", index=False)"
   ]
  },
  {
   "cell_type": "code",
   "execution_count": 43,
   "metadata": {},
   "outputs": [
    {
     "data": {
      "application/vnd.jupyter.widget-view+json": {
       "model_id": "f9da8bf7d1ce43099b8624448d18a909",
       "version_major": 2,
       "version_minor": 0
      },
      "text/plain": [
       "HBox(children=(FloatProgress(value=0.0, max=22647.0), HTML(value='')))"
      ]
     },
     "metadata": {},
     "output_type": "display_data"
    },
    {
     "name": "stdout",
     "output_type": "stream",
     "text": [
      "\n"
     ]
    }
   ],
   "source": [
    "# 각 타임라인에 찍힌 위치 정보가 필요한데, match-timelines 데이터에 모여있다.\n",
    "# 그래서 이 데이터를 가져와야한다.\n",
    "\n",
    "lst_match_timeline = []\n",
    "for _game_id in tqdm(df_match_final['gameId'], total=df_match_final.shape[0]): # 각 게임 아이디마다 요청\n",
    "    api_url = f'https://kr.api.riotgames.com/lol/match/v4/timelines/by-match/{_game_id}?api_key={api_key}'\n",
    "    r = requests.get(api_url)\n",
    "    while r.status_code!=200: # 요청 제한 또는 오류로 인해 정상적으로 받아오지 않는 상태라면, 3초 간 시간을 지연\n",
    "        time.sleep(3)\n",
    "        r = requests.get(api_url)\n",
    "    temp_match = pd.DataFrame(list(r.json().values())[0]) # 전체 데이터 저장 (데이터 값에 딕셔너리 형태로 필요한 정보가 저장)\n",
    "    temp_timeline = pd.DataFrame()\n",
    "    len_timeline = temp_match.shape[0]\n",
    "    for i in range(len_timeline): # 각 게임의 타임라인이 모두 다르기 때문 (1분 가량마다 타임라인이 찍힌다)\n",
    "        temp_current_timeline = pd.DataFrame(temp_match['participantFrames'].iloc[i]).T\n",
    "        if i != (len_timeline-1):\n",
    "            temp_position = pd.DataFrame(list(temp_current_timeline['position'].values), index=temp_current_timeline.index)\n",
    "            temp_current_timeline = pd.concat([temp_current_timeline, temp_position], axis=1)\n",
    "            temp_current_timeline.drop('position', axis=1, inplace=True)\n",
    "        temp_current_timeline['timestamp'] = temp_match['timestamp'][i]\n",
    "        temp_timeline = pd.concat([temp_timeline, temp_current_timeline], axis=0, sort=False)\n",
    "    lst_match_timeline.append(temp_timeline)\n",
    "\n",
    "# f = open('MatchTimelineData.pickle', 'wb') # 리스트 안의 데이터프레임 형태이므로 바이너리 코드로 저장하기 위함임\n",
    "# pickle.dump(match_timeline_list, f)\n",
    "# f.close()\n",
    "\n",
    "# 블랙리스트 되서 또 11788개의 데이터만 받아왔음\n",
    "# match_df = match_df.iloc[:11788, :].copy()\n",
    "# f = open('MatchTimelineData.pickle', 'rb')\n",
    "# match_timeline_list = pickle.load(f)"
   ]
  },
  {
   "cell_type": "code",
   "execution_count": 48,
   "metadata": {},
   "outputs": [],
   "source": [
    "with open(\"../data/lstT_match_timeline.pkl\", \"wb\") as f:\n",
    "    pickle.dump(lst_match_timeline, f)"
   ]
  },
  {
   "cell_type": "raw",
   "metadata": {},
   "source": [
    "import plotly.express as px\n",
    "import plotly.graph_objects as go\n",
    "from ipywidgets import widgets\n",
    "\n",
    "df_lol_duo_match = pd.DataFrame({\"AD\": [\"시비르\", \"이즈리얼\", \"시비르\", \"이즈리얼\"],\n",
    "                                 \"SUP\": [\"알리스타\", \"알리스타\", \"소라카\", \"소라카\"],\n",
    "                                 \"WIN_RATE\" : [0.5, 0.4, 0.6, 0.6],\n",
    "                                 \"PICK_RATE\": [0.06, 0.11, 0.07, 0.03]})\n",
    "\n",
    "AD_dropdown = widgets.Dropdown(description='AD Champ:   ',\n",
    "                               value=None,\n",
    "                               options=df_lol_duo_match['AD'].unique().tolist())\n",
    "\n",
    "trace1 = go.Bar(x=df_lol_duo_match[\"SUP\"], y=df_lol_duo_match[\"WIN_RATE\"], opacity=0.75, name='Arrival Delays')\n",
    "\n",
    "# trace2 = go.Bar(x=df['dep_delay'], opacity=0.75, name='Departure Delays')\n",
    "g = go.FigureWidget(data=[trace1])\n",
    "# g = go.FigureWidget(data=[trace1, trace2],\n",
    "#                     layout=go.Layout(\n",
    "#                         title=dict(\n",
    "#                             text='NYC FlightDatabase'\n",
    "#                         ),\n",
    "#                         barmode='overlay'\n",
    "#                     ))\n",
    "\n",
    "df_lol_duo_match.query(\"AD == @AD_dropdown.value\")\n",
    "\n",
    "def response(change):\n",
    "    temp_df = df_lol_duo_match.query(\"AD == @AD_dropdown.value\")\n",
    "\n",
    "    with g.batch_update():\n",
    "        g.data[0].x = temp_df[\"SUP\"]\n",
    "        g.data[0].y = temp_df[\"WIN_RATE\"]\n",
    "        g.layout.xaxis.title = 'Delay in Minutes'\n",
    "        g.layout.yaxis.title = 'Number of Delays'\n",
    "\n",
    "\n",
    "AD_dropdown.observe(response, names=\"value\")\n",
    "\n",
    "AD나 서폿 고르면 듀오 챔에 따른 승률, 픽률\n",
    "\n",
    "widgets.VBox([widgets.HBox([AD_dropdown]),\n",
    "              g])"
   ]
  },
  {
   "cell_type": "code",
   "execution_count": null,
   "metadata": {},
   "outputs": [],
   "source": []
  }
 ],
 "metadata": {
  "kernelspec": {
   "display_name": "LOL-BhK7coMk",
   "language": "python",
   "name": "lol-bhk7comk"
  },
  "language_info": {
   "codemirror_mode": {
    "name": "ipython",
    "version": 3
   },
   "file_extension": ".py",
   "mimetype": "text/x-python",
   "name": "python",
   "nbconvert_exporter": "python",
   "pygments_lexer": "ipython3",
   "version": "3.7.6"
  }
 },
 "nbformat": 4,
 "nbformat_minor": 2
}
