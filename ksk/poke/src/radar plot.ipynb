{
 "cells": [
  {
   "cell_type": "code",
   "execution_count": 1,
   "metadata": {},
   "outputs": [],
   "source": [
    "import pandas as pd\n",
    "import plotly.express as px\n",
    "import plotly.graph_objects as go\n",
    "from ipywidgets import widgets"
   ]
  },
  {
   "cell_type": "code",
   "execution_count": 2,
   "metadata": {},
   "outputs": [],
   "source": [
    "poke = pd.read_csv(\"../data/pokemon.csv\")\n",
    "categories = [\"attack\", \"defense\", \"hp\", \"sp_attack\", \"sp_defense\", \"speed\", \"attack\"]"
   ]
  },
  {
   "cell_type": "code",
   "execution_count": 3,
   "metadata": {},
   "outputs": [],
   "source": [
    "dropdown_poke1 = widgets.Dropdown(description=\"기준 포켓몬\",\n",
    "                                  value=None,\n",
    "                                  options=poke.name.tolist())\n",
    "dropdown_poke2 = widgets.Dropdown(description=\"비교 포켓몬\",\n",
    "                                  value=None,\n",
    "                                  options=poke.name.tolist())"
   ]
  },
  {
   "cell_type": "code",
   "execution_count": 4,
   "metadata": {},
   "outputs": [],
   "source": [
    "radar_poke1 = go.Scatterpolar(r=None, theta=categories, name=None, fill=\"toself\")\n",
    "radar_poke2 = go.Scatterpolar(r=None, theta=categories, name=None, fill=\"toself\")"
   ]
  },
  {
   "cell_type": "code",
   "execution_count": 5,
   "metadata": {},
   "outputs": [],
   "source": [
    "fig = go.FigureWidget(data=[radar_poke1, radar_poke2])"
   ]
  },
  {
   "cell_type": "code",
   "execution_count": 6,
   "metadata": {},
   "outputs": [],
   "source": [
    "def response(change):\n",
    "    if change[\"owner\"].description == \"기준 포켓몬\":\n",
    "        idx = 0\n",
    "    elif change[\"owner\"].description == \"비교 포켓몬\":\n",
    "        idx = 1\n",
    "    new_poke = change[\"new\"]\n",
    "    \n",
    "    temp_df = poke.query(\"name == @new_poke\")\n",
    "    \n",
    "    with fig.batch_update():\n",
    "        fig.data[idx].r = temp_df[categories].values.flatten().tolist()\n",
    "        fig.data[idx].name = new_poke\n",
    "dropdown_poke1.observe(response, \"value\")\n",
    "dropdown_poke2.observe(response, \"value\")"
   ]
  },
  {
   "cell_type": "code",
   "execution_count": 13,
   "metadata": {},
   "outputs": [
    {
     "data": {
      "application/vnd.jupyter.widget-view+json": {
       "model_id": "f1bb016040944297a74c973a1db1d91e",
       "version_major": 2,
       "version_minor": 0
      },
      "text/plain": [
       "VBox(children=(HBox(children=(Dropdown(description='기준 포켓몬', options=('Bulbasaur', 'Ivysaur', 'Venusaur', 'Cha…"
      ]
     },
     "metadata": {},
     "output_type": "display_data"
    }
   ],
   "source": [
    "widgets.VBox([widgets.HBox([dropdown_poke1, dropdown_poke2]),\n",
    "              fig])"
   ]
  },
  {
   "cell_type": "code",
   "execution_count": null,
   "metadata": {},
   "outputs": [],
   "source": []
  }
 ],
 "metadata": {
  "kernelspec": {
   "display_name": "LOL-BhK7coMk",
   "language": "python",
   "name": "lol-bhk7comk"
  },
  "language_info": {
   "codemirror_mode": {
    "name": "ipython",
    "version": 3
   },
   "file_extension": ".py",
   "mimetype": "text/x-python",
   "name": "python",
   "nbconvert_exporter": "python",
   "pygments_lexer": "ipython3",
   "version": "3.7.6"
  }
 },
 "nbformat": 4,
 "nbformat_minor": 4
}
